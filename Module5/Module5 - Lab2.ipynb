{
 "cells": [
  {
   "cell_type": "markdown",
   "metadata": {},
   "source": [
    "# DAT210x - Programming with Python for DS"
   ]
  },
  {
   "cell_type": "markdown",
   "metadata": {},
   "source": [
    "## Module5- Lab2"
   ]
  },
  {
   "cell_type": "markdown",
   "metadata": {
    "collapsed": true
   },
   "source": [
    "Start by importing whatever you need to import in order to make this lab work:"
   ]
  },
  {
   "cell_type": "code",
   "execution_count": 1,
   "metadata": {
    "collapsed": true
   },
   "outputs": [],
   "source": [
    "import pandas as pd\n",
    "import numpy as np\n",
    "from sklearn import cluster\n",
    "import matplotlib.pyplot as plt\n",
    "import matplotlib"
   ]
  },
  {
   "cell_type": "markdown",
   "metadata": {
    "collapsed": true
   },
   "source": [
    "### CDRs"
   ]
  },
  {
   "cell_type": "markdown",
   "metadata": {
    "collapsed": true
   },
   "source": [
    "A [call detail record](https://en.wikipedia.org/wiki/Call_detail_record) (CDR) is a data record produced by a telephone exchange or other telecommunications equipment that documents the details of a telephone call or other telecommunications transaction (e.g., text message) that passes through that facility or device.\n",
    "\n",
    "The record contains various attributes of the call, such as time, duration, completion status, source number, and destination number. It is the automated equivalent of the paper toll tickets that were written and timed by operators for long-distance calls in a manual telephone exchange.\n",
    "\n",
    "The dataset we've curated for you contains call records for 10 people, tracked over the course of 3 years. Your job in this assignment is to find out where each of these people likely live and where they work at!\n",
    "\n",
    "Start by loading up the dataset and taking a peek at its head. You can convert date-strings to real date-time objects using `pd.to_datetime`, and the times using `pd.to_timedelta`:"
   ]
  },
  {
   "cell_type": "code",
   "execution_count": 36,
   "metadata": {},
   "outputs": [
    {
     "data": {
      "text/plain": [
       "In                    int64\n",
       "Out                   int64\n",
       "Direction            object\n",
       "CallDate     datetime64[ns]\n",
       "CallTime     datetime64[ns]\n",
       "DOW                  object\n",
       "Duration             object\n",
       "TowerID              object\n",
       "TowerLat            float64\n",
       "TowerLon            float64\n",
       "dtype: object"
      ]
     },
     "execution_count": 36,
     "metadata": {},
     "output_type": "execute_result"
    }
   ],
   "source": [
    "df = pd.read_csv(\"Datasets/CDR.csv\")\n",
    "df['CallDate'] = pd.to_datetime(df['CallDate'])\n",
    "df['CallTime'] = pd.to_datetime(df['CallTime'])\n",
    "#df['CallTime'] = df['CallTime'].dt.time\n",
    "df.dtypes"
   ]
  },
  {
   "cell_type": "markdown",
   "metadata": {},
   "source": [
    "Create a distinct list of `In` phone numbers (people) and store the values in a regular python list. Make sure the numbers appear in your list in the same order they appear in your dataframe; but only keep a single copy of each number. [This link](https://docs.scipy.org/doc/numpy/reference/generated/numpy.ndarray.tolist.html) might also be helpful."
   ]
  },
  {
   "cell_type": "code",
   "execution_count": 37,
   "metadata": {},
   "outputs": [
    {
     "data": {
      "text/plain": [
       "[4638472273,\n",
       " 1559410755,\n",
       " 4931532174,\n",
       " 2419930464,\n",
       " 1884182865,\n",
       " 3688089071,\n",
       " 4555003213,\n",
       " 2068627935,\n",
       " 2894365987,\n",
       " 8549533077]"
      ]
     },
     "execution_count": 37,
     "metadata": {},
     "output_type": "execute_result"
    }
   ],
   "source": [
    "people = df.In.unique()\n",
    "people.tolist()\n"
   ]
  },
  {
   "cell_type": "markdown",
   "metadata": {},
   "source": [
    "Create a slice named `user1` that filters to _only_ include dataset records where the `In` feature (user's phone number) is equal to the first number on your unique list above, i.e., the very first number in the dataset:"
   ]
  },
  {
   "cell_type": "code",
   "execution_count": 38,
   "metadata": {
    "collapsed": true
   },
   "outputs": [],
   "source": [
    "user1 = df[df.In == people[0]]\n"
   ]
  },
  {
   "cell_type": "markdown",
   "metadata": {},
   "source": [
    "Let's go ahead and plot all the call locations:"
   ]
  },
  {
   "cell_type": "code",
   "execution_count": 39,
   "metadata": {},
   "outputs": [
    {
     "data": {
      "image/png": "[encoded data removed]",
      "text/plain": [
       "<matplotlib.figure.Figure at 0x7f3c5736d410>"
      ]
     },
     "metadata": {},
     "output_type": "display_data"
    }
   ],
   "source": [
    "user1.plot.scatter(x='TowerLon', y='TowerLat', c='gray', alpha=0.1, title='Call Locations')\n",
    "plt.show()"
   ]
  },
  {
   "cell_type": "markdown",
   "metadata": {},
   "source": [
    "INFO: The locations map above should be too \"busy\" to really wrap your head around. This is where domain expertise comes into play. Your intuition can direct you by knowing people are likely to behave differently on weekends vs on weekdays:\n",
    "\n",
    "#### On Weekends\n",
    "1. People probably don't go into work\n",
    "1. They probably sleep in late on Saturday\n",
    "1. They probably run a bunch of random errands, since they couldn't during the week\n",
    "1. They should be home, at least during the very late hours, e.g. 1-4 AM\n",
    "\n",
    "#### On Weekdays\n",
    "1. People probably are at work during normal working hours\n",
    "1. They probably are at home in the early morning and during the late night\n",
    "1. They probably spend time commuting between work and home everyday"
   ]
  },
  {
   "cell_type": "markdown",
   "metadata": {},
   "source": [
    "Add more filters to the `user1` slice you created. Add bitwise logic so that you only examine records that _came in_ on weekends (sat/sun):"
   ]
  },
  {
   "cell_type": "code",
   "execution_count": 44,
   "metadata": {
    "collapsed": true
   },
   "outputs": [],
   "source": [
    "user1 = user1[(user1.CallDate.dt.dayofweek == 5) | (user1.CallDate.dt.dayofweek == 6) ]\n",
    "\n"
   ]
  },
  {
   "cell_type": "markdown",
   "metadata": {
    "collapsed": true
   },
   "source": [
    "Further filter `user1` down for calls that came in either before 6AM OR after 10pm (22:00:00). Even if you didn't convert your times from string objects to timedeltas, you can still use `<` and `>` to compare the string times as long as you code them as [military time strings](https://en.wikipedia.org/wiki/24-hour_clock), eg: \"06:00:00\", \"22:00:00\": \n",
    "\n",
    "You may also want to review the Data Manipulation section for this. Once you have your filtered slice, print out its length:"
   ]
  },
  {
   "cell_type": "code",
   "execution_count": 50,
   "metadata": {},
   "outputs": [
    {
     "data": {
      "text/html": [
       "<div>\n",
       "<style>\n",
       "    .dataframe thead tr:only-child th {\n",
       "        text-align: right;\n",
       "    }\n",
       "\n",
       "    .dataframe thead th {\n",
       "        text-align: left;\n",
       "    }\n",
       "\n",
       "    .dataframe tbody tr th {\n",
       "        vertical-align: top;\n",
       "    }\n",
       "</style>\n",
       "<table border=\"1\" class=\"dataframe\">\n",
       "  <thead>\n",
       "    <tr style=\"text-align: right;\">\n",
       "      <th></th>\n",
       "      <th>In</th>\n",
       "      <th>Out</th>\n",
       "      <th>Direction</th>\n",
       "      <th>CallDate</th>\n",
       "      <th>CallTime</th>\n",
       "      <th>DOW</th>\n",
       "      <th>Duration</th>\n",
       "      <th>TowerID</th>\n",
       "      <th>TowerLat</th>\n",
       "      <th>TowerLon</th>\n",
       "    </tr>\n",
       "  </thead>\n",
       "  <tbody>\n",
       "    <tr>\n",
       "      <th>940</th>\n",
       "      <td>4638472273</td>\n",
       "      <td>6150928001</td>\n",
       "      <td>Incoming</td>\n",
       "      <td>2011-01-08</td>\n",
       "      <td>2017-09-02 22:22:33.693878</td>\n",
       "      <td>Sat</td>\n",
       "      <td>0:00:35.065912</td>\n",
       "      <td>26f7441e-e64b-4b9d-8c5a-0eb34f7e919f</td>\n",
       "      <td>32.731611</td>\n",
       "      <td>-96.709417</td>\n",
       "    </tr>\n",
       "    <tr>\n",
       "      <th>1875</th>\n",
       "      <td>4638472273</td>\n",
       "      <td>2145623768</td>\n",
       "      <td>Incoming</td>\n",
       "      <td>2011-01-22</td>\n",
       "      <td>2017-09-02 22:21:27.466908</td>\n",
       "      <td>Sat</td>\n",
       "      <td>0:03:40.018320</td>\n",
       "      <td>2567c73b-3711-4a31-8683-9d12d56857d8</td>\n",
       "      <td>32.731611</td>\n",
       "      <td>-96.709417</td>\n",
       "    </tr>\n",
       "    <tr>\n",
       "      <th>6949</th>\n",
       "      <td>4638472273</td>\n",
       "      <td>5621270003</td>\n",
       "      <td>Missed</td>\n",
       "      <td>2011-04-09</td>\n",
       "      <td>2017-09-02 22:59:23.206408</td>\n",
       "      <td>Sat</td>\n",
       "      <td>0:03:06.567364</td>\n",
       "      <td>2567c73b-3711-4a31-8683-9d12d56857d8</td>\n",
       "      <td>32.731611</td>\n",
       "      <td>-96.709417</td>\n",
       "    </tr>\n",
       "    <tr>\n",
       "      <th>7468</th>\n",
       "      <td>4638472273</td>\n",
       "      <td>7756914135</td>\n",
       "      <td>Incoming</td>\n",
       "      <td>2011-04-17</td>\n",
       "      <td>2017-09-02 05:15:40.205917</td>\n",
       "      <td>Sun</td>\n",
       "      <td>0:02:09.984993</td>\n",
       "      <td>cd9f3b1a-2eb8-4cdb-86d1-5d4c2740b1dc</td>\n",
       "      <td>32.731722</td>\n",
       "      <td>-96.709500</td>\n",
       "    </tr>\n",
       "    <tr>\n",
       "      <th>9753</th>\n",
       "      <td>4638472273</td>\n",
       "      <td>7922223441</td>\n",
       "      <td>Incoming</td>\n",
       "      <td>2011-05-21</td>\n",
       "      <td>2017-09-02 05:08:20.121145</td>\n",
       "      <td>Sat</td>\n",
       "      <td>0:01:30.059591</td>\n",
       "      <td>0db53dd3-eb9c-4344-abc5-c2d74ebc3eec</td>\n",
       "      <td>32.731611</td>\n",
       "      <td>-96.709417</td>\n",
       "    </tr>\n",
       "    <tr>\n",
       "      <th>13951</th>\n",
       "      <td>4638472273</td>\n",
       "      <td>7428841195</td>\n",
       "      <td>Missed</td>\n",
       "      <td>2011-07-23</td>\n",
       "      <td>2017-09-02 22:56:02.014834</td>\n",
       "      <td>Sat</td>\n",
       "      <td>0:04:48.497077</td>\n",
       "      <td>26f7441e-e64b-4b9d-8c5a-0eb34f7e919f</td>\n",
       "      <td>32.731611</td>\n",
       "      <td>-96.709417</td>\n",
       "    </tr>\n",
       "    <tr>\n",
       "      <th>17515</th>\n",
       "      <td>4638472273</td>\n",
       "      <td>2666307251</td>\n",
       "      <td>Incoming</td>\n",
       "      <td>2011-09-11</td>\n",
       "      <td>2017-09-02 05:44:15.432523</td>\n",
       "      <td>Sun</td>\n",
       "      <td>0:01:39.500414</td>\n",
       "      <td>bcec0121-164d-406c-8c04-d12870893992</td>\n",
       "      <td>32.731611</td>\n",
       "      <td>-96.709417</td>\n",
       "    </tr>\n",
       "    <tr>\n",
       "      <th>21638</th>\n",
       "      <td>4638472273</td>\n",
       "      <td>6150928001</td>\n",
       "      <td>Incoming</td>\n",
       "      <td>2011-11-13</td>\n",
       "      <td>2017-09-02 05:10:41.954161</td>\n",
       "      <td>Sun</td>\n",
       "      <td>0:00:44.369613</td>\n",
       "      <td>f3f289f5-7d29-4d3f-9b9a-a0ceaca10a1d</td>\n",
       "      <td>32.750556</td>\n",
       "      <td>-96.694722</td>\n",
       "    </tr>\n",
       "    <tr>\n",
       "      <th>22045</th>\n",
       "      <td>4638472273</td>\n",
       "      <td>6022767590</td>\n",
       "      <td>Missed</td>\n",
       "      <td>2011-11-19</td>\n",
       "      <td>2017-09-02 22:59:53.166951</td>\n",
       "      <td>Sat</td>\n",
       "      <td>0:00:05.795265</td>\n",
       "      <td>8ba7e0d7-eb6e-4828-9c70-c469954a627d</td>\n",
       "      <td>32.731611</td>\n",
       "      <td>-96.709417</td>\n",
       "    </tr>\n",
       "    <tr>\n",
       "      <th>22502</th>\n",
       "      <td>4638472273</td>\n",
       "      <td>5621270003</td>\n",
       "      <td>Incoming</td>\n",
       "      <td>2011-11-26</td>\n",
       "      <td>2017-09-02 22:10:48.879076</td>\n",
       "      <td>Sat</td>\n",
       "      <td>0:03:07.592270</td>\n",
       "      <td>bcec0121-164d-406c-8c04-d12870893992</td>\n",
       "      <td>32.731611</td>\n",
       "      <td>-96.709417</td>\n",
       "    </tr>\n",
       "    <tr>\n",
       "      <th>27866</th>\n",
       "      <td>4638472273</td>\n",
       "      <td>2946222380</td>\n",
       "      <td>Missed</td>\n",
       "      <td>2012-02-12</td>\n",
       "      <td>2017-09-02 22:48:34.319367</td>\n",
       "      <td>Sun</td>\n",
       "      <td>0:03:24.762196</td>\n",
       "      <td>1bfc786a-d4c2-464c-bc45-b9aad0c81216</td>\n",
       "      <td>32.731722</td>\n",
       "      <td>-96.709500</td>\n",
       "    </tr>\n",
       "    <tr>\n",
       "      <th>31975</th>\n",
       "      <td>4638472273</td>\n",
       "      <td>1755442610</td>\n",
       "      <td>Incoming</td>\n",
       "      <td>2012-04-14</td>\n",
       "      <td>2017-09-02 05:42:32.004437</td>\n",
       "      <td>Sat</td>\n",
       "      <td>0:07:02.657988</td>\n",
       "      <td>d760c426-4d58-4f9c-9950-b68a3a54612c</td>\n",
       "      <td>32.731611</td>\n",
       "      <td>-96.709417</td>\n",
       "    </tr>\n",
       "    <tr>\n",
       "      <th>32605</th>\n",
       "      <td>4638472273</td>\n",
       "      <td>7756914135</td>\n",
       "      <td>Incoming</td>\n",
       "      <td>2012-04-22</td>\n",
       "      <td>2017-09-02 22:44:21.992759</td>\n",
       "      <td>Sun</td>\n",
       "      <td>0:02:37.995933</td>\n",
       "      <td>0db53dd3-eb9c-4344-abc5-c2d74ebc3eec</td>\n",
       "      <td>32.731611</td>\n",
       "      <td>-96.709417</td>\n",
       "    </tr>\n",
       "    <tr>\n",
       "      <th>32606</th>\n",
       "      <td>4638472273</td>\n",
       "      <td>7922223441</td>\n",
       "      <td>Incoming</td>\n",
       "      <td>2012-04-22</td>\n",
       "      <td>2017-09-02 05:02:55.678110</td>\n",
       "      <td>Sun</td>\n",
       "      <td>0:03:50.596153</td>\n",
       "      <td>8ba7e0d7-eb6e-4828-9c70-c469954a627d</td>\n",
       "      <td>32.731611</td>\n",
       "      <td>-96.709417</td>\n",
       "    </tr>\n",
       "    <tr>\n",
       "      <th>34427</th>\n",
       "      <td>4638472273</td>\n",
       "      <td>5621270003</td>\n",
       "      <td>Incoming</td>\n",
       "      <td>2012-05-19</td>\n",
       "      <td>2017-09-02 05:42:45.405430</td>\n",
       "      <td>Sat</td>\n",
       "      <td>0:03:33.104834</td>\n",
       "      <td>2567c73b-3711-4a31-8683-9d12d56857d8</td>\n",
       "      <td>32.731611</td>\n",
       "      <td>-96.709417</td>\n",
       "    </tr>\n",
       "    <tr>\n",
       "      <th>38110</th>\n",
       "      <td>4638472273</td>\n",
       "      <td>2145623768</td>\n",
       "      <td>Incoming</td>\n",
       "      <td>2012-07-15</td>\n",
       "      <td>2017-09-02 05:59:38.556670</td>\n",
       "      <td>Sun</td>\n",
       "      <td>0:04:29.583137</td>\n",
       "      <td>1bfc786a-d4c2-464c-bc45-b9aad0c81216</td>\n",
       "      <td>32.731722</td>\n",
       "      <td>-96.709500</td>\n",
       "    </tr>\n",
       "    <tr>\n",
       "      <th>38564</th>\n",
       "      <td>4638472273</td>\n",
       "      <td>5481755331</td>\n",
       "      <td>Incoming</td>\n",
       "      <td>2012-07-22</td>\n",
       "      <td>2017-09-02 22:14:37.361635</td>\n",
       "      <td>Sun</td>\n",
       "      <td>0:01:44.568702</td>\n",
       "      <td>aeaf8b43-8034-44fe-833d-31854a75acbf</td>\n",
       "      <td>32.731722</td>\n",
       "      <td>-96.709500</td>\n",
       "    </tr>\n",
       "    <tr>\n",
       "      <th>39870</th>\n",
       "      <td>4638472273</td>\n",
       "      <td>8180005891</td>\n",
       "      <td>Incoming</td>\n",
       "      <td>2012-08-12</td>\n",
       "      <td>2017-09-02 22:31:22.519784</td>\n",
       "      <td>Sun</td>\n",
       "      <td>0:00:12.541785</td>\n",
       "      <td>26f7441e-e64b-4b9d-8c5a-0eb34f7e919f</td>\n",
       "      <td>32.731611</td>\n",
       "      <td>-96.709417</td>\n",
       "    </tr>\n",
       "    <tr>\n",
       "      <th>40275</th>\n",
       "      <td>4638472273</td>\n",
       "      <td>7756914135</td>\n",
       "      <td>Missed</td>\n",
       "      <td>2012-08-19</td>\n",
       "      <td>2017-09-02 05:33:32.103650</td>\n",
       "      <td>Sun</td>\n",
       "      <td>0:01:35.932559</td>\n",
       "      <td>aeaf8b43-8034-44fe-833d-31854a75acbf</td>\n",
       "      <td>32.731722</td>\n",
       "      <td>-96.709500</td>\n",
       "    </tr>\n",
       "    <tr>\n",
       "      <th>40789</th>\n",
       "      <td>4638472273</td>\n",
       "      <td>7428841195</td>\n",
       "      <td>Incoming</td>\n",
       "      <td>2012-08-26</td>\n",
       "      <td>2017-09-02 22:23:58.453302</td>\n",
       "      <td>Sun</td>\n",
       "      <td>0:06:08.978230</td>\n",
       "      <td>bcec0121-164d-406c-8c04-d12870893992</td>\n",
       "      <td>32.731611</td>\n",
       "      <td>-96.709417</td>\n",
       "    </tr>\n",
       "    <tr>\n",
       "      <th>41757</th>\n",
       "      <td>4638472273</td>\n",
       "      <td>7922223441</td>\n",
       "      <td>Incoming</td>\n",
       "      <td>2012-09-08</td>\n",
       "      <td>2017-09-02 22:45:53.008411</td>\n",
       "      <td>Sat</td>\n",
       "      <td>0:04:26.260140</td>\n",
       "      <td>2567c73b-3711-4a31-8683-9d12d56857d8</td>\n",
       "      <td>32.731611</td>\n",
       "      <td>-96.709417</td>\n",
       "    </tr>\n",
       "    <tr>\n",
       "      <th>41758</th>\n",
       "      <td>4638472273</td>\n",
       "      <td>7428841195</td>\n",
       "      <td>Incoming</td>\n",
       "      <td>2012-09-08</td>\n",
       "      <td>2017-09-02 22:19:08.522062</td>\n",
       "      <td>Sat</td>\n",
       "      <td>0:04:18.402811</td>\n",
       "      <td>bcec0121-164d-406c-8c04-d12870893992</td>\n",
       "      <td>32.731611</td>\n",
       "      <td>-96.709417</td>\n",
       "    </tr>\n",
       "    <tr>\n",
       "      <th>42224</th>\n",
       "      <td>4638472273</td>\n",
       "      <td>7922223441</td>\n",
       "      <td>Incoming</td>\n",
       "      <td>2012-09-15</td>\n",
       "      <td>2017-09-02 05:14:40.655349</td>\n",
       "      <td>Sat</td>\n",
       "      <td>0:04:07.561627</td>\n",
       "      <td>cd9f3b1a-2eb8-4cdb-86d1-5d4c2740b1dc</td>\n",
       "      <td>32.731722</td>\n",
       "      <td>-96.709500</td>\n",
       "    </tr>\n",
       "    <tr>\n",
       "      <th>44498</th>\n",
       "      <td>4638472273</td>\n",
       "      <td>7721472178</td>\n",
       "      <td>Incoming</td>\n",
       "      <td>2012-10-21</td>\n",
       "      <td>2017-09-02 22:00:09.753350</td>\n",
       "      <td>Sun</td>\n",
       "      <td>0:03:24.773041</td>\n",
       "      <td>d760c426-4d58-4f9c-9950-b68a3a54612c</td>\n",
       "      <td>32.731611</td>\n",
       "      <td>-96.709417</td>\n",
       "    </tr>\n",
       "    <tr>\n",
       "      <th>44927</th>\n",
       "      <td>4638472273</td>\n",
       "      <td>1755442610</td>\n",
       "      <td>Incoming</td>\n",
       "      <td>2012-10-27</td>\n",
       "      <td>2017-09-02 05:47:54.723850</td>\n",
       "      <td>Sat</td>\n",
       "      <td>0:04:28.876617</td>\n",
       "      <td>1bfc786a-d4c2-464c-bc45-b9aad0c81216</td>\n",
       "      <td>32.731722</td>\n",
       "      <td>-96.709500</td>\n",
       "    </tr>\n",
       "    <tr>\n",
       "      <th>44994</th>\n",
       "      <td>4638472273</td>\n",
       "      <td>7922223441</td>\n",
       "      <td>Incoming</td>\n",
       "      <td>2012-10-28</td>\n",
       "      <td>2017-09-02 05:24:17.234557</td>\n",
       "      <td>Sun</td>\n",
       "      <td>0:02:00.473836</td>\n",
       "      <td>bde84490-896f-4060-8bd0-bd7a90cc20d9</td>\n",
       "      <td>32.750556</td>\n",
       "      <td>-96.694722</td>\n",
       "    </tr>\n",
       "    <tr>\n",
       "      <th>49203</th>\n",
       "      <td>4638472273</td>\n",
       "      <td>8068555700</td>\n",
       "      <td>Incoming</td>\n",
       "      <td>2012-12-29</td>\n",
       "      <td>2017-09-02 05:08:40.433945</td>\n",
       "      <td>Sat</td>\n",
       "      <td>0:03:10.280023</td>\n",
       "      <td>aeaf8b43-8034-44fe-833d-31854a75acbf</td>\n",
       "      <td>32.731722</td>\n",
       "      <td>-96.709500</td>\n",
       "    </tr>\n",
       "    <tr>\n",
       "      <th>51586</th>\n",
       "      <td>4638472273</td>\n",
       "      <td>2946222380</td>\n",
       "      <td>Incoming</td>\n",
       "      <td>2013-02-03</td>\n",
       "      <td>2017-09-02 22:14:12.703233</td>\n",
       "      <td>Sun</td>\n",
       "      <td>0:04:05.550748</td>\n",
       "      <td>cd9f3b1a-2eb8-4cdb-86d1-5d4c2740b1dc</td>\n",
       "      <td>32.731722</td>\n",
       "      <td>-96.709500</td>\n",
       "    </tr>\n",
       "  </tbody>\n",
       "</table>\n",
       "</div>"
      ],
      "text/plain": [
       "               In         Out Direction   CallDate                   CallTime  \\\n",
       "940    4638472273  6150928001  Incoming 2011-01-08 2017-09-02 22:22:33.693878   \n",
       "1875   4638472273  2145623768  Incoming 2011-01-22 2017-09-02 22:21:27.466908   \n",
       "6949   4638472273  5621270003    Missed 2011-04-09 2017-09-02 22:59:23.206408   \n",
       "7468   4638472273  7756914135  Incoming 2011-04-17 2017-09-02 05:15:40.205917   \n",
       "9753   4638472273  7922223441  Incoming 2011-05-21 2017-09-02 05:08:20.121145   \n",
       "13951  4638472273  7428841195    Missed 2011-07-23 2017-09-02 22:56:02.014834   \n",
       "17515  4638472273  2666307251  Incoming 2011-09-11 2017-09-02 05:44:15.432523   \n",
       "21638  4638472273  6150928001  Incoming 2011-11-13 2017-09-02 05:10:41.954161   \n",
       "22045  4638472273  6022767590    Missed 2011-11-19 2017-09-02 22:59:53.166951   \n",
       "22502  4638472273  5621270003  Incoming 2011-11-26 2017-09-02 22:10:48.879076   \n",
       "27866  4638472273  2946222380    Missed 2012-02-12 2017-09-02 22:48:34.319367   \n",
       "31975  4638472273  1755442610  Incoming 2012-04-14 2017-09-02 05:42:32.004437   \n",
       "32605  4638472273  7756914135  Incoming 2012-04-22 2017-09-02 22:44:21.992759   \n",
       "32606  4638472273  7922223441  Incoming 2012-04-22 2017-09-02 05:02:55.678110   \n",
       "34427  4638472273  5621270003  Incoming 2012-05-19 2017-09-02 05:42:45.405430   \n",
       "38110  4638472273  2145623768  Incoming 2012-07-15 2017-09-02 05:59:38.556670   \n",
       "38564  4638472273  5481755331  Incoming 2012-07-22 2017-09-02 22:14:37.361635   \n",
       "39870  4638472273  8180005891  Incoming 2012-08-12 2017-09-02 22:31:22.519784   \n",
       "40275  4638472273  7756914135    Missed 2012-08-19 2017-09-02 05:33:32.103650   \n",
       "40789  4638472273  7428841195  Incoming 2012-08-26 2017-09-02 22:23:58.453302   \n",
       "41757  4638472273  7922223441  Incoming 2012-09-08 2017-09-02 22:45:53.008411   \n",
       "41758  4638472273  7428841195  Incoming 2012-09-08 2017-09-02 22:19:08.522062   \n",
       "42224  4638472273  7922223441  Incoming 2012-09-15 2017-09-02 05:14:40.655349   \n",
       "44498  4638472273  7721472178  Incoming 2012-10-21 2017-09-02 22:00:09.753350   \n",
       "44927  4638472273  1755442610  Incoming 2012-10-27 2017-09-02 05:47:54.723850   \n",
       "44994  4638472273  7922223441  Incoming 2012-10-28 2017-09-02 05:24:17.234557   \n",
       "49203  4638472273  8068555700  Incoming 2012-12-29 2017-09-02 05:08:40.433945   \n",
       "51586  4638472273  2946222380  Incoming 2013-02-03 2017-09-02 22:14:12.703233   \n",
       "\n",
       "       DOW        Duration                               TowerID   TowerLat  \\\n",
       "940    Sat  0:00:35.065912  26f7441e-e64b-4b9d-8c5a-0eb34f7e919f  32.731611   \n",
       "1875   Sat  0:03:40.018320  2567c73b-3711-4a31-8683-9d12d56857d8  32.731611   \n",
       "6949   Sat  0:03:06.567364  2567c73b-3711-4a31-8683-9d12d56857d8  32.731611   \n",
       "7468   Sun  0:02:09.984993  cd9f3b1a-2eb8-4cdb-86d1-5d4c2740b1dc  32.731722   \n",
       "9753   Sat  0:01:30.059591  0db53dd3-eb9c-4344-abc5-c2d74ebc3eec  32.731611   \n",
       "13951  Sat  0:04:48.497077  26f7441e-e64b-4b9d-8c5a-0eb34f7e919f  32.731611   \n",
       "17515  Sun  0:01:39.500414  bcec0121-164d-406c-8c04-d12870893992  32.731611   \n",
       "21638  Sun  0:00:44.369613  f3f289f5-7d29-4d3f-9b9a-a0ceaca10a1d  32.750556   \n",
       "22045  Sat  0:00:05.795265  8ba7e0d7-eb6e-4828-9c70-c469954a627d  32.731611   \n",
       "22502  Sat  0:03:07.592270  bcec0121-164d-406c-8c04-d12870893992  32.731611   \n",
       "27866  Sun  0:03:24.762196  1bfc786a-d4c2-464c-bc45-b9aad0c81216  32.731722   \n",
       "31975  Sat  0:07:02.657988  d760c426-4d58-4f9c-9950-b68a3a54612c  32.731611   \n",
       "32605  Sun  0:02:37.995933  0db53dd3-eb9c-4344-abc5-c2d74ebc3eec  32.731611   \n",
       "32606  Sun  0:03:50.596153  8ba7e0d7-eb6e-4828-9c70-c469954a627d  32.731611   \n",
       "34427  Sat  0:03:33.104834  2567c73b-3711-4a31-8683-9d12d56857d8  32.731611   \n",
       "38110  Sun  0:04:29.583137  1bfc786a-d4c2-464c-bc45-b9aad0c81216  32.731722   \n",
       "38564  Sun  0:01:44.568702  aeaf8b43-8034-44fe-833d-31854a75acbf  32.731722   \n",
       "39870  Sun  0:00:12.541785  26f7441e-e64b-4b9d-8c5a-0eb34f7e919f  32.731611   \n",
       "40275  Sun  0:01:35.932559  aeaf8b43-8034-44fe-833d-31854a75acbf  32.731722   \n",
       "40789  Sun  0:06:08.978230  bcec0121-164d-406c-8c04-d12870893992  32.731611   \n",
       "41757  Sat  0:04:26.260140  2567c73b-3711-4a31-8683-9d12d56857d8  32.731611   \n",
       "41758  Sat  0:04:18.402811  bcec0121-164d-406c-8c04-d12870893992  32.731611   \n",
       "42224  Sat  0:04:07.561627  cd9f3b1a-2eb8-4cdb-86d1-5d4c2740b1dc  32.731722   \n",
       "44498  Sun  0:03:24.773041  d760c426-4d58-4f9c-9950-b68a3a54612c  32.731611   \n",
       "44927  Sat  0:04:28.876617  1bfc786a-d4c2-464c-bc45-b9aad0c81216  32.731722   \n",
       "44994  Sun  0:02:00.473836  bde84490-896f-4060-8bd0-bd7a90cc20d9  32.750556   \n",
       "49203  Sat  0:03:10.280023  aeaf8b43-8034-44fe-833d-31854a75acbf  32.731722   \n",
       "51586  Sun  0:04:05.550748  cd9f3b1a-2eb8-4cdb-86d1-5d4c2740b1dc  32.731722   \n",
       "\n",
       "        TowerLon  \n",
       "940   -96.709417  \n",
       "1875  -96.709417  \n",
       "6949  -96.709417  \n",
       "7468  -96.709500  \n",
       "9753  -96.709417  \n",
       "13951 -96.709417  \n",
       "17515 -96.709417  \n",
       "21638 -96.694722  \n",
       "22045 -96.709417  \n",
       "22502 -96.709417  \n",
       "27866 -96.709500  \n",
       "31975 -96.709417  \n",
       "32605 -96.709417  \n",
       "32606 -96.709417  \n",
       "34427 -96.709417  \n",
       "38110 -96.709500  \n",
       "38564 -96.709500  \n",
       "39870 -96.709417  \n",
       "40275 -96.709500  \n",
       "40789 -96.709417  \n",
       "41757 -96.709417  \n",
       "41758 -96.709417  \n",
       "42224 -96.709500  \n",
       "44498 -96.709417  \n",
       "44927 -96.709500  \n",
       "44994 -96.694722  \n",
       "49203 -96.709500  \n",
       "51586 -96.709500  "
      ]
     },
     "execution_count": 50,
     "metadata": {},
     "output_type": "execute_result"
    }
   ],
   "source": [
    "user1 = user1[(user1.CallTime < \"06:00:00\") | (user1.CallTime > \"22:00:00\") ]\n"
   ]
  },
  {
   "cell_type": "markdown",
   "metadata": {},
   "source": [
    "Visualize the dataframe with a scatter plot as a sanity check. Since you're [familiar with maps](https://en.wikipedia.org/wiki/Geographic_coordinate_system#Geographic_latitude_and_longitude), you know well that your X-Coordinate should be Longitude, and your Y coordinate should be the tower Latitude. Check the dataset headers for proper column feature names.\n",
    " \n",
    "At this point, you don't yet know exactly where the user is located just based off the cell phone tower position data; but considering the below are for Calls that arrived in the twilight hours of weekends, it's likely that wherever they are bunched up is probably near where the caller's residence:"
   ]
  },
  {
   "cell_type": "code",
   "execution_count": 48,
   "metadata": {},
   "outputs": [
    {
     "data": {
      "image/png": "[encoded data removed]",
      "text/plain": [
       "<matplotlib.figure.Figure at 0x7f3c573063d0>"
      ]
     },
     "metadata": {},
     "output_type": "display_data"
    }
   ],
   "source": [
    "fig = plt.figure()\n",
    "ax = fig.add_subplot(111)\n",
    "ax.scatter(user1.TowerLon,user1.TowerLat, c='g', marker='o', alpha=0.2)\n",
    "ax.set_title('Weekend Calls (<6am or >10p)')\n",
    "plt.show()"
   ]
  },
  {
   "cell_type": "markdown",
   "metadata": {},
   "source": [
    "Run K-Means with a `K=1`. There really should only be a single area of concentration. If you notice multiple areas that are \"hot\" (multiple areas the user spends a lot of time at that are FAR apart from one another), then increase `K=2`, with the goal being that one of the centroids will sweep up the annoying outliers; and the other will zero in on the user's approximate home location. Or rather the location of the cell tower closest to their home.....\n",
    "\n",
    "Be sure to only feed in Lat and Lon coordinates to the KMeans algorithm, since none of the other data is suitable for your purposes. Since both Lat and Lon are (approximately) on the same scale, no feature scaling is required. Print out the centroid locations and add them onto your scatter plot. Use a distinguishable marker and color.\n",
    "\n",
    "Hint: Make sure you graph the CORRECT coordinates. This is part of your domain expertise."
   ]
  },
  {
   "cell_type": "code",
   "execution_count": 52,
   "metadata": {},
   "outputs": [
    {
     "name": "stdout",
     "output_type": "stream",
     "text": [
      "[[ 32.73299989 -96.70839404]]\n"
     ]
    },
    {
     "data": {
      "image/png": "[encoded data removed]",
      "text/plain": [
       "<matplotlib.figure.Figure at 0x7f3c56d3bd90>"
      ]
     },
     "metadata": {},
     "output_type": "display_data"
    }
   ],
   "source": [
    "user1 = user1.loc[:, ['TowerLat','TowerLon']]\n",
    "model = cluster.KMeans(n_clusters=1)\n",
    "model.fit(user1)\n",
    "labels =model.labels_\n",
    "centroids = model.cluster_centers_\n",
    "print(centroids) \n",
    "from matplotlib import pyplot\n",
    "\n",
    "pyplot.plot(user1.TowerLat, user1.TowerLon, 'o')\n",
    "# plot the centroids\n",
    "lines = pyplot.plot(centroids[:,0],centroids[:,1],'kx')\n",
    "# make the centroid x's bigger\n",
    "pyplot.setp(lines,ms=15.0)\n",
    "pyplot.setp(lines,mew=2.0)\n",
    "pyplot.show()"
   ]
  },
  {
   "cell_type": "code",
   "execution_count": null,
   "metadata": {
    "collapsed": true
   },
   "outputs": [],
   "source": [
    "plt.show()"
   ]
  },
  {
   "cell_type": "markdown",
   "metadata": {},
   "source": [
    "Now that you have a system in place, repeat the above steps for all 10 individuals in the dataset, being sure to record their approximate home locations. You might want to use a for-loop, unless you enjoy copying and pasting:"
   ]
  },
  {
   "cell_type": "code",
   "execution_count": null,
   "metadata": {
    "collapsed": true
   },
   "outputs": [],
   "source": [
    "# .. your code here .."
   ]
  },
  {
   "cell_type": "code",
   "execution_count": null,
   "metadata": {
    "collapsed": true
   },
   "outputs": [],
   "source": []
  }
 ],
 "metadata": {
  "anaconda-cloud": {},
  "kernelspec": {
   "display_name": "Python 2",
   "language": "python",
   "name": "python2"
  },
  "language_info": {
   "codemirror_mode": {
    "name": "ipython",
    "version": 2
   },
   "file_extension": ".py",
   "mimetype": "text/x-python",
   "name": "python",
   "nbconvert_exporter": "python",
   "pygments_lexer": "ipython2",
   "version": "2.7.13"
  },
  "toc": {
   "colors": {
    "hover_highlight": "#DAA520",
    "running_highlight": "#FF0000",
    "selected_highlight": "#FFD700"
   },
   "moveMenuLeft": true,
   "nav_menu": {
    "height": "58px",
    "width": "252px"
   },
   "navigate_menu": true,
   "number_sections": true,
   "sideBar": true,
   "threshold": 4,
   "toc_cell": false,
   "toc_section_display": "block",
   "toc_window_display": false,
   "widenNotebook": false
  }
 },
 "nbformat": 4,
 "nbformat_minor": 2
}
