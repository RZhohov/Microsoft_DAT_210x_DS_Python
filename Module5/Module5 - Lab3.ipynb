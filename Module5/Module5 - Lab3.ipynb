{
 "cells": [
  {
   "cell_type": "markdown",
   "metadata": {},
   "source": [
    "# DAT210x - Programming with Python for DS"
   ]
  },
  {
   "cell_type": "markdown",
   "metadata": {},
   "source": [
    "## Module5- Lab3"
   ]
  },
  {
   "cell_type": "code",
   "execution_count": 230,
   "metadata": {
    "collapsed": true
   },
   "outputs": [],
   "source": [
    "import pandas as pd\n",
    "from datetime import timedelta\n",
    "import matplotlib.pyplot as plt\n",
    "import matplotlib\n",
    "from sklearn import cluster\n",
    "\n",
    "matplotlib.style.use('ggplot') # Look Pretty"
   ]
  },
  {
   "cell_type": "markdown",
   "metadata": {},
   "source": [
    "A convenience function for you to use:"
   ]
  },
  {
   "cell_type": "code",
   "execution_count": 231,
   "metadata": {},
   "outputs": [],
   "source": [
    "def clusterInfo(model):\n",
    "    print(\"Cluster Analysis Inertia: \", model.inertia_)\n",
    "    print('------------------------------------------')\n",
    "    \n",
    "    for i in range(len(model.cluster_centers_)):\n",
    "        print(\"\\n  Cluster \", i)\n",
    "        print(\"    Centroid \", model.cluster_centers_[i])\n",
    "        print(\"    #Samples \", (model.labels_==i).sum()) # NumPy Power"
   ]
  },
  {
   "cell_type": "code",
   "execution_count": 232,
   "metadata": {
    "collapsed": true
   },
   "outputs": [],
   "source": [
    "# Find the cluster with the least # attached nodes\n",
    "def clusterWithFewestSamples(model):\n",
    "    # Ensure there's at least on cluster...\n",
    "    minSamples = len(model.labels_)\n",
    "    minCluster = 0\n",
    "    \n",
    "    for i in range(len(model.cluster_centers_)):\n",
    "        if minSamples > (model.labels_==i).sum():\n",
    "            minCluster = i\n",
    "            minSamples = (model.labels_==i).sum()\n",
    "\n",
    "    print(\"\\n  Cluster With Fewest Samples: \", minCluster)\n",
    "    return (model.labels_==minCluster)"
   ]
  },
  {
   "cell_type": "markdown",
   "metadata": {
    "collapsed": true
   },
   "source": [
    "### CDRs"
   ]
  },
  {
   "cell_type": "markdown",
   "metadata": {
    "collapsed": true
   },
   "source": [
    "A [call detail record](https://en.wikipedia.org/wiki/Call_detail_record) (CDR) is a data record produced by a telephone exchange or other telecommunications equipment that documents the details of a telephone call or other telecommunications transaction (e.g., text message) that passes through that facility or device.\n",
    "\n",
    "The record contains various attributes of the call, such as time, duration, completion status, source number, and destination number. It is the automated equivalent of the paper toll tickets that were written and timed by operators for long-distance calls in a manual telephone exchange.\n",
    "\n",
    "The dataset we've curated for you contains call records for 10 people, tracked over the course of 3 years. Your job in this assignment is to find out where each of these people likely live and where they work at!\n",
    "\n",
    "Start by loading up the dataset and taking a peek at its `head` and `dtypes`. You can convert date-strings to real date-time objects using `pd.to_datetime`, and the times using `pd.to_timedelta`:"
   ]
  },
  {
   "cell_type": "code",
   "execution_count": 233,
   "metadata": {},
   "outputs": [
    {
     "data": {
      "text/plain": [
       "In                     int64\n",
       "Out                    int64\n",
       "Direction             object\n",
       "CallDate      datetime64[ns]\n",
       "CallTime     timedelta64[ns]\n",
       "DOW                   object\n",
       "Duration              object\n",
       "TowerID               object\n",
       "TowerLat             float64\n",
       "TowerLon             float64\n",
       "dtype: object"
      ]
     },
     "execution_count": 233,
     "metadata": {},
     "output_type": "execute_result"
    }
   ],
   "source": [
    "df = pd.read_csv(\"Datasets/CDR.csv\")\n",
    "df['CallDate'] = pd.to_datetime(df['CallDate'])\n",
    "df['CallTime'] = pd.to_timedelta(df['CallTime'])\n",
    "#df['CallTime'] = df['CallTime'].dt.time\n",
    "df.dtypes"
   ]
  },
  {
   "cell_type": "markdown",
   "metadata": {},
   "source": [
    "Create a unique list of the phone number values (people) stored in the `In` column of the dataset, and save them in a regular python list called `unique_numbers`. Manually check through `unique_numbers` to ensure the order the numbers appear is the same order they (uniquely) appear in your dataset:"
   ]
  },
  {
   "cell_type": "code",
   "execution_count": 234,
   "metadata": {
    "collapsed": true
   },
   "outputs": [],
   "source": [
    "unique_numbers = df.In.unique()"
   ]
  },
  {
   "cell_type": "markdown",
   "metadata": {},
   "source": [
    "Using some domain expertise, your intuition should direct you to know that people are likely to behave differently on weekends vs on weekdays:\n",
    "\n",
    "#### On Weekends\n",
    "1. People probably don't go into work\n",
    "1. They probably sleep in late on Saturday\n",
    "1. They probably run a bunch of random errands, since they couldn't during the week\n",
    "1. They should be home, at least during the very late hours, e.g. 1-4 AM\n",
    "\n",
    "#### On Weekdays\n",
    "1. People probably are at work during normal working hours\n",
    "1. They probably are at home in the early morning and during the late night\n",
    "1. They probably spend time commuting between work and home everyday"
   ]
  },
  {
   "cell_type": "code",
   "execution_count": 235,
   "metadata": {},
   "outputs": [
    {
     "name": "stdout",
     "output_type": "stream",
     "text": [
      "('Examining person: ', 0)\n"
     ]
    }
   ],
   "source": [
    "print(\"Examining person: \", 0)"
   ]
  },
  {
   "cell_type": "markdown",
   "metadata": {
    "collapsed": true
   },
   "source": [
    "Create a slice called `user1` that filters to only include dataset records where the `In` feature (user phone number) is equal to the first number on your unique list above:"
   ]
  },
  {
   "cell_type": "code",
   "execution_count": 236,
   "metadata": {},
   "outputs": [
    {
     "data": {
      "text/plain": [
       "2894365987"
      ]
     },
     "execution_count": 236,
     "metadata": {},
     "output_type": "execute_result"
    }
   ],
   "source": [
    "i = 8\n",
    "user1 = df[df.In == unique_numbers[i]]\n",
    "unique_numbers[i]\n"
   ]
  },
  {
   "cell_type": "markdown",
   "metadata": {},
   "source": [
    "Alter your slice so that it includes only Weekday (Mon-Fri) values:"
   ]
  },
  {
   "cell_type": "code",
   "execution_count": 237,
   "metadata": {},
   "outputs": [],
   "source": [
    "user1 = user1[(user1.CallDate.dt.dayofweek != 5) & (user1.CallDate.dt.dayofweek != 6) ]\n"
   ]
  },
  {
   "cell_type": "markdown",
   "metadata": {},
   "source": [
    "The idea is that the call was placed before 5pm. From Midnight-730a, the user is probably sleeping and won't call / wake up to take a call. There should be a brief time in the morning during their commute to work, then they'll spend the entire day at work. So the assumption is that most of the time is spent either at work, or in 2nd, at home:"
   ]
  },
  {
   "cell_type": "code",
   "execution_count": 238,
   "metadata": {},
   "outputs": [],
   "source": [
    "user1 = user1[(user1.CallTime > \"07:30:00\") | (user1.CallTime < \"00:00:00\")]\n",
    "user1  = user1[(user1.CallTime < \"17:00:00\")]\n"
   ]
  },
  {
   "cell_type": "markdown",
   "metadata": {},
   "source": [
    "Plot the Cell Towers the user connected to"
   ]
  },
  {
   "cell_type": "code",
   "execution_count": 239,
   "metadata": {},
   "outputs": [
    {
     "data": {
      "image/png": "[encoded data removed]",
      "text/plain": [
       "<matplotlib.figure.Figure at 0x7f6c463f2a50>"
      ]
     },
     "metadata": {},
     "output_type": "display_data"
    }
   ],
   "source": [
    "user1.plot.scatter(x='TowerLon', y='TowerLat', c='gray', alpha=0.1, title='Call Locations')\n",
    "plt.show()"
   ]
  },
  {
   "cell_type": "code",
   "execution_count": 240,
   "metadata": {
    "collapsed": true
   },
   "outputs": [],
   "source": [
    "def doKMeans(data, num_clusters=0):\n",
    "    data = data.loc[:, ['TowerLat','TowerLon']]\n",
    "    model = cluster.KMeans(num_clusters)\n",
    "    model.fit(data)\n",
    "    labels =model.labels_\n",
    "    centroids = model.cluster_centers_\n",
    "    print(centroids) \n",
    "    \n",
    "    return model"
   ]
  },
  {
   "cell_type": "markdown",
   "metadata": {},
   "source": [
    "Let's tun K-Means with `K=3` or `K=4`. There really should only be a two areas of concentration. If you notice multiple areas that are \"hot\" (multiple areas the user spends a lot of time at that are FAR apart from one another), then increase K=5, with the goal being that all centroids except two will sweep up the annoying outliers and not-home, not-work travel occasions. the other two will zero in on the user's approximate home location and work locations. Or rather the location of the cell tower closest to them....."
   ]
  },
  {
   "cell_type": "code",
   "execution_count": 241,
   "metadata": {},
   "outputs": [
    {
     "name": "stdout",
     "output_type": "stream",
     "text": [
      "[[ 32.72167395 -96.89200578]\n",
      " [ 32.741889   -96.857611  ]\n",
      " [ 32.717667   -96.875194  ]]\n"
     ]
    }
   ],
   "source": [
    "model = doKMeans(user1, 3)"
   ]
  },
  {
   "cell_type": "markdown",
   "metadata": {},
   "source": [
    "Print out the mean `CallTime` value for the samples belonging to the cluster with the LEAST samples attached to it. If our logic is correct, the cluster with the MOST samples will be work. The cluster with the 2nd most samples will be home. And the `K=3` cluster with the least samples should be somewhere in between the two. What time, on average, is the user in between home and work, between the midnight and 5pm?"
   ]
  },
  {
   "cell_type": "code",
   "execution_count": 242,
   "metadata": {},
   "outputs": [
    {
     "name": "stdout",
     "output_type": "stream",
     "text": [
      "('\\n  Cluster With Fewest Samples: ', 2)\n",
      "('    Its Waypoint Time: ', Timedelta('0 days 07:49:08.500296'))\n"
     ]
    }
   ],
   "source": [
    "midWayClusterIndices = clusterWithFewestSamples(model)\n",
    "midWaySamples = user1[midWayClusterIndices]\n",
    "print(\"    Its Waypoint Time: \", midWaySamples.CallTime.mean())"
   ]
  },
  {
   "cell_type": "markdown",
   "metadata": {},
   "source": [
    "Let's visualize the results! First draw the X's for the clusters:"
   ]
  },
  {
   "cell_type": "code",
   "execution_count": 243,
   "metadata": {},
   "outputs": [
    {
     "data": {
      "image/png": "[encoded data removed]",
      "text/plain": [
       "<matplotlib.figure.Figure at 0x7f6c461cb950>"
      ]
     },
     "metadata": {},
     "output_type": "display_data"
    }
   ],
   "source": [
    "fig = plt.figure()\n",
    "ax = fig.add_subplot(111)\n",
    "ax.scatter(model.cluster_centers_[:,1], model.cluster_centers_[:,0], s=169, c='r', marker='x', alpha=0.8, linewidths=2)\n",
    "ax.set_title('Weekday Calls Centroids')\n",
    "plt.show()"
   ]
  },
  {
   "cell_type": "code",
   "execution_count": null,
   "metadata": {
    "collapsed": true
   },
   "outputs": [],
   "source": []
  }
 ],
 "metadata": {
  "anaconda-cloud": {},
  "kernelspec": {
   "display_name": "Python 2",
   "language": "python",
   "name": "python2"
  },
  "language_info": {
   "codemirror_mode": {
    "name": "ipython",
    "version": 2
   },
   "file_extension": ".py",
   "mimetype": "text/x-python",
   "name": "python",
   "nbconvert_exporter": "python",
   "pygments_lexer": "ipython2",
   "version": "2.7.13"
  },
  "toc": {
   "colors": {
    "hover_highlight": "#DAA520",
    "running_highlight": "#FF0000",
    "selected_highlight": "#FFD700"
   },
   "moveMenuLeft": true,
   "nav_menu": {
    "height": "58px",
    "width": "252px"
   },
   "navigate_menu": true,
   "number_sections": true,
   "sideBar": true,
   "threshold": 4,
   "toc_cell": false,
   "toc_section_display": "block",
   "toc_window_display": false,
   "widenNotebook": false
  }
 },
 "nbformat": 4,
 "nbformat_minor": 2
}
